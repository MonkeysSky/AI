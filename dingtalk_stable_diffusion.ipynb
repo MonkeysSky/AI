{
  "cells": [
    {
      "cell_type": "markdown",
      "metadata": {
        "id": "view-in-github",
        "colab_type": "text"
      },
      "source": [
        "<a href=\"https://colab.research.google.com/github/chzealot/dingtalk-stable-diffusion/blob/main/dingtalk_stable_diffusion.ipynb\" target=\"_parent\"><img src=\"https://colab.research.google.com/assets/colab-badge.svg\" alt=\"Open In Colab\"/></a>"
      ]
    },
    {
      "cell_type": "code",
      "execution_count": null,
      "metadata": {
        "id": "55J0S0BzdfXF"
      },
      "outputs": [],
      "source": [
        "!nvidia-smi\n",
        "!git clone https://github.com/chzealot/dingtalk-stable-diffusion.git\n",
        "%cd dingtalk-stable-diffusion\n",
        "!pip install -r requirements.txt\n",
        "\n",
        "!python ./dingtalksd.py --client_id=\"put-your-dingtalk-client-id-here\" --client_secret=\"put-your-dingtalk-client-secret-here\"\n"
      ]
    }
  ],
  "metadata": {
    "colab": {
      "private_outputs": true,
      "provenance": [],
      "toc_visible": true,
      "gpuType": "T4",
      "authorship_tag": "ABX9TyOBwMqPCt/rGze++IK3g7G/",
      "include_colab_link": true
    },
    "kernelspec": {
      "display_name": "Python 3",
      "name": "python3"
    },
    "language_info": {
      "name": "python"
    },
    "accelerator": "GPU",
    "gpuClass": "standard"
  },
  "nbformat": 4,
  "nbformat_minor": 0
}
